{
 "cells": [
  {
   "cell_type": "code",
   "execution_count": 1,
   "metadata": {},
   "outputs": [],
   "source": [
    "# This notebook computes and plots the results for Table 2 in the paper\n",
    "\n",
    "\n",
    "import sys\n",
    "sys.path.append(\"../../\")\n",
    "\n",
    "import matplotlib.pyplot as plt\n",
    "import numpy as np\n",
    "from expected_cost import ec, utils\n",
    "from expected_cost.data import get_llks_for_multi_classif_task\n",
    "from sklearn.metrics import roc_curve, roc_auc_score, f1_score, precision_recall_curve, accuracy_score, recall_score, precision_score\n",
    "from expected_cost.calibration import calibration_with_crossval, calibration_train_on_test\n",
    "from expected_cost.psrcal_wrappers import Brier, LogLoss, LogLossSE, ECE, ECEbin, L2ECEbin, CalLoss\n",
    "import re\n",
    "\n",
    "outdir = \"outputs/\"\n",
    "utils.mkdir_p(outdir)"
   ]
  },
  {
   "cell_type": "code",
   "execution_count": 2,
   "metadata": {},
   "outputs": [
    {
     "name": "stdout",
     "output_type": "stream",
     "text": [
      "\n",
      "System                            |  Cab0.00    Cab0.05    Cab0.10    Cab0.15    Cab0.20    Cab0.25    Cab0.30    Cab0.35    Cab0.40    Cab0.45    Cab0.50    Cab0.55    Cab0.60    Cab0.65    Cab0.70    Cab0.75    Cab0.80    Cab0.85    Cab0.90    Cab0.95    Cab1.00    Cab1.05   |     CE     |  RCL      ECEbin     ECEmc \n",
      "SST2 GPT2-4sh            raw      |       nan      0.974      0.812      0.718      0.888      1.202      1.333      1.296      1.198      1.097      0.996      0.996      0.996      0.996      0.996      0.996      0.996      0.996      0.996      0.996      0.996      0.996  "
     ]
    },
    {
     "name": "stderr",
     "output_type": "stream",
     "text": [
      "/Users/lferrer/Dropbox/Projects/expected_cost/notebooks/missclassification_costs/../../expected_cost/ec.py:188: RuntimeWarning: invalid value encountered in scalar divide\n",
      "  return ave_cost / norm_value\n",
      "/Users/lferrer/Dropbox/Projects/expected_cost/notebooks/missclassification_costs/../../expected_cost/ec.py:188: RuntimeWarning: invalid value encountered in scalar divide\n",
      "  return ave_cost / norm_value\n"
     ]
    },
    {
     "name": "stdout",
     "output_type": "stream",
     "text": [
      "|   1.073    |  62.4      34.4     34.8  \n",
      "SST2 GPT2-4sh            TScal    |       nan      1.000      1.000      1.000      1.000      0.970      0.822      0.648      0.871      1.047      0.996      0.996      0.996      0.996      0.996      0.996      0.996      0.996      0.996      0.996      0.996      0.996  |   0.931    |  56.4      31.5     31.9  \n",
      "SST2 GPT2-4sh            DPcal    |       nan      0.718      0.585      0.496      0.420      0.387      0.335      0.306      0.282      0.252      0.226      0.226      0.226      0.226      0.226      0.226      0.226      0.226      0.226      0.226      0.226      0.226  |   0.404    |  -0.6       1.6      2.2  \n",
      "SST2 GPT2-4sh            OPcal    |       nan      0.673      0.555      0.470      0.405      0.363      0.325      0.297      0.272      0.247      0.223      0.223  "
     ]
    },
    {
     "name": "stderr",
     "output_type": "stream",
     "text": [
      "/Users/lferrer/Dropbox/Projects/expected_cost/notebooks/missclassification_costs/../../expected_cost/ec.py:188: RuntimeWarning: invalid value encountered in scalar divide\n",
      "  return ave_cost / norm_value\n",
      "/Users/lferrer/Dropbox/Projects/expected_cost/notebooks/missclassification_costs/../../expected_cost/ec.py:188: RuntimeWarning: invalid value encountered in scalar divide\n",
      "  return ave_cost / norm_value\n"
     ]
    },
    {
     "name": "stdout",
     "output_type": "stream",
     "text": [
      "    0.223      0.223      0.223      0.223      0.223      0.223      0.223      0.223      0.223      0.223  |   0.385    |  -0.4       0.0      0.0  \n",
      "\n",
      "SST2 GPT2-0sh            raw      |       nan      0.933      0.818      0.842      0.893      0.936      0.972      0.977      0.952      0.895      0.828      0.828      0.828      0.828      0.828      0.828      0.828      0.828      0.828      0.828      0.828      0.828  |   0.917    |  46.0      20.0     27.3  \n",
      "SST2 GPT2-0sh            TScal    |       nan      1.000      0.995      0.943      0.843      0.745      0.732      0.779      0.852      0.877      0.828      0.828      0.828      0.828      0.828      0.828      0.828      0.828      0.828  "
     ]
    },
    {
     "name": "stderr",
     "output_type": "stream",
     "text": [
      "/Users/lferrer/Dropbox/Projects/expected_cost/notebooks/missclassification_costs/../../expected_cost/ec.py:188: RuntimeWarning: invalid value encountered in scalar divide\n",
      "  return ave_cost / norm_value\n",
      "/Users/lferrer/Dropbox/Projects/expected_cost/notebooks/missclassification_costs/../../expected_cost/ec.py:188: RuntimeWarning: invalid value encountered in scalar divide\n",
      "  return ave_cost / norm_value\n"
     ]
    },
    {
     "name": "stdout",
     "output_type": "stream",
     "text": [
      "    0.828      0.828      0.828  |   0.858    |  42.1      18.9     26.9  \n",
      "SST2 GPT2-0sh            DPcal    |       nan      0.811      0.655      0.602      0.528      0.490      0.435      0.399      0.360      0.333      0.310      0.310      0.310      0.310      0.310  "
     ]
    },
    {
     "name": "stderr",
     "output_type": "stream",
     "text": [
      "/Users/lferrer/Dropbox/Projects/expected_cost/notebooks/missclassification_costs/../../expected_cost/ec.py:188: RuntimeWarning: invalid value encountered in scalar divide\n",
      "  return ave_cost / norm_value\n",
      "/Users/lferrer/Dropbox/Projects/expected_cost/notebooks/missclassification_costs/../../expected_cost/ec.py:188: RuntimeWarning: invalid value encountered in scalar divide\n",
      "  return ave_cost / norm_value\n"
     ]
    },
    {
     "name": "stdout",
     "output_type": "stream",
     "text": [
      "    0.310      0.310      0.310      0.310      0.310      0.310      0.310  |   0.495    |  -0.6       1.4      1.5  \n",
      "SST2 GPT2-0sh            OPcal    |       nan      0.757      0.638      0.580      0.522      0.470      0.429      0.393      0.356      0.325      0.298      0.298      0.298      0.298      0.298      0.298      0.298      0.298      0.298      0.298      0.298      0.298  |   0.478    |  -0.4       0.0      0.0  \n",
      "\n",
      "SITW XvPLDA              raw      | "
     ]
    },
    {
     "name": "stderr",
     "output_type": "stream",
     "text": [
      "/Users/lferrer/Dropbox/Projects/expected_cost/notebooks/missclassification_costs/../../expected_cost/ec.py:188: RuntimeWarning: invalid value encountered in scalar divide\n",
      "  return ave_cost / norm_value\n"
     ]
    },
    {
     "name": "stdout",
     "output_type": "stream",
     "text": [
      "      nan      0.180      0.225      0.256      0.273      0.288      0.297      0.305      0.311      0.323      0.324      0.324      0.324      0.324      0.324      0.324      0.324      0.324      0.324      0.324      0.324      0.324  |   0.189    |  16.7       0.2      0.2  \n",
      "SITW XvPLDA              TScal    | "
     ]
    },
    {
     "name": "stderr",
     "output_type": "stream",
     "text": [
      "/Users/lferrer/Dropbox/Projects/expected_cost/notebooks/missclassification_costs/../../expected_cost/ec.py:188: RuntimeWarning: invalid value encountered in scalar divide\n",
      "  return ave_cost / norm_value\n"
     ]
    },
    {
     "name": "stdout",
     "output_type": "stream",
     "text": [
      "      nan      0.152      0.202      0.235      0.259      0.277      0.291      0.303      0.315      0.322      0.324      0.324      0.324      0.324      0.324      0.324      0.324      0.324      0.324      0.324      0.324      0.324  |   0.163    |   3.2       0.0      0.1  \n",
      "SITW XvPLDA              DPcal    | "
     ]
    },
    {
     "name": "stderr",
     "output_type": "stream",
     "text": [
      "/Users/lferrer/Dropbox/Projects/expected_cost/notebooks/missclassification_costs/../../expected_cost/ec.py:188: RuntimeWarning: invalid value encountered in scalar divide\n",
      "  return ave_cost / norm_value\n"
     ]
    },
    {
     "name": "stdout",
     "output_type": "stream",
     "text": [
      "      nan      0.145      0.190      0.225      0.251      0.268      0.289      0.297      0.303      0.304      0.306      0.306      0.306      0.306      0.306      0.306      0.306      0.306      0.306      0.306      0.306      0.306  "
     ]
    }
   ],
   "source": [
    "p_agnews = 0.01\n",
    "p_iemocap = 0.05\n",
    "data_dir = '../data/'\n",
    "\n",
    "datasets = {'SST2 GPT2-4sh':         'sst2_gpt2_4shot',\n",
    "            'SST2 GPT2-0sh':         'sst2_gpt2',\n",
    "            'SITW XvPLDA':           'sitw_plda',\n",
    "            'FVCAUS XvPLDA':         'fvcaus_plda',\n",
    "            'CIFAR-1vsO Resnet-20': ('cifar100_resnet-20/', None, 1),\n",
    "            'CIFAR-2vsO Resnet-20': ('cifar100_resnet-20/', None, 2),\n",
    "            'IEMOCAP W2V2':          'iemocap_wav2vec_pt',\n",
    "            'AGNEWS GPT2-0sh':       'agnews_gpt2',\n",
    "            'CIFAR10 Resnet-20':     'cifar10_resnet-20/',\n",
    "            'CIFAR10 Vgg19':         'cifar10_vgg19_bn/',\n",
    "            'CIFAR10 RepVgg-a2':     'cifar10_repvgg_a2/',\n",
    "            'CIFAR100 Resnet-20':    'cifar100_resnet-20/',\n",
    "            'CIFAR100 Vgg19':        'cifar100_vgg19_bn/',\n",
    "            'CIFAR100 RepVgg-a2':    'cifar100_repvgg_a2/'}\n",
    "\n",
    "# Field separators for printing to screen or in latex format for the paper\n",
    "print_style = ''  # 'latex'\n",
    "\n",
    "sep = '  ' \n",
    "sep2 = '|' \n",
    "newline = ''\n",
    "\n",
    "first = True\n",
    "targets_dict = {}\n",
    "seed = 0\n",
    "\n",
    "gammas = np.arange(0.0, 1.1, 0.05)\n",
    "\n",
    "colors = {'raw': 'k', 'TScal': 'r', 'DPcal': 'b', 'OPcal': 'g'}\n",
    "\n",
    "for dname, dinfo in datasets.items():\n",
    "    \n",
    "    data_name = re.sub(' .*','',dname)\n",
    "    system_name = re.sub('.* ','',dname)\n",
    "\n",
    "    if type(dinfo) == tuple:\n",
    "        (dpath, priors, one_vs_other) = dinfo\n",
    "        targets, logpost_raw, _ = get_llks_for_multi_classif_task(data_dir+dpath, logpost=True, priors=priors, one_vs_other=one_vs_other)\n",
    "    else:\n",
    "        dpath = dinfo\n",
    "        targets, logpost_raw, _ = get_llks_for_multi_classif_task(data_dir+dpath, logpost=True)\n",
    "    \n",
    "    targets_dict[dname] = targets\n",
    "\n",
    "    K = logpost_raw.shape[1]\n",
    "    counts = np.bincount(targets)\n",
    "    priors = counts/len(targets)\n",
    "\n",
    "    # Obtain three calibrated versions\n",
    "    logpost_dict = {'raw': logpost_raw}\n",
    "    logpost_dict['TScal'] = calibration_with_crossval(logpost_raw, targets, seed=seed, calparams={'bias':False})\n",
    "    logpost_dict['DPcal'] = calibration_with_crossval(logpost_raw, targets, seed=seed, calparams={'bias':True})\n",
    "    if K == 2:\n",
    "        logpost_dict['OPcal'] = calibration_train_on_test(logpost_raw, targets, calmethod='PAV')\n",
    "\n",
    "    # Define various 0-1 costs matrices with abstention option \n",
    "    cost_no_rej = ec.CostMatrix.zero_one_costs(K)\n",
    "    costs = {}\n",
    "    for gamma in gammas:\n",
    "        costs[f'Cab{gamma:.2f}'] = ec.CostMatrix.zero_one_costs(K, abstention_cost=gamma) #ec.CostMatrix(np.c_[cost_no_rej.get_matrix(), gamma*np.ones(K)])\n",
    "\n",
    "    if first is True:\n",
    "        print(f'\\nSystem                         {sep} {sep2} ', end='')\n",
    "        for costn, cost in costs.items():\n",
    "            print(f\" {costn:5s}{sep} \", end='')\n",
    "        print(f'{sep2}     CE  {sep} {sep2}  RCL   {sep} ECEbin  {sep} ECEmc {newline}')        \n",
    "        first = False\n",
    "\n",
    "    ce_raw = LogLoss(logpost_raw, targets)\n",
    "\n",
    "    fig, axes = plt.subplots(1,4, figsize=(14,5))\n",
    "    for logpostname, logpost in logpost_dict.items():\n",
    "\n",
    "        print(f'{dname:25s}{logpostname:5s} {sep} {sep2} ', end='')\n",
    "        \n",
    "        ecval_vector = []\n",
    "        ecvaln_vector = []\n",
    "        ecval_sel_vector = []\n",
    "        coverage_vector = []\n",
    "        # FPR and FNR for the missclassification detection problem. Each vector will have one value per gamma.\n",
    "        md_fpr = []\n",
    "        md_fnr = []\n",
    "\n",
    "        # Decisions without a reject option\n",
    "        decisions_no_rej, _ = ec.bayes_decisions(logpost, cost_no_rej, score_type='log_posteriors')\n",
    "\n",
    "        # Targets for the missclassification detection problem\n",
    "        targets_rej = decisions_no_rej != targets\n",
    "\n",
    "        # This is the \"s\" function. It should be generalized for any possible cost function.\n",
    "        # The only below only works for the 0-1 cost matrix\n",
    "        confidences = np.max(logpost, axis=1)\n",
    "\n",
    "        for gamma in gammas:\n",
    "            costn = f'Cab{gamma:.2f}'\n",
    "            cost = costs[costn]\n",
    "            decisions, _ = ec.bayes_decisions(logpost, cost, score_type='log_posteriors')\n",
    "            ecvaln = ec.average_cost(targets, decisions, cost, adjusted=True)\n",
    "            ecval  = ec.average_cost(targets, decisions, cost, adjusted=False)\n",
    "            ecvaln_vector.append(ecvaln)\n",
    "            ecval_vector.append(ecval)\n",
    "            print(f\"   {ecvaln:6.3f}{sep}\", end='')\n",
    "\n",
    "            # EC only for the samples that were not rejected\n",
    "            sel = decisions != K\n",
    "            targets_sel = targets[sel]\n",
    "            decisions_sel = decisions[sel]\n",
    "            coverage_vector.append(np.sum(sel)/len(decisions))\n",
    "            if np.sum(sel) > 0:\n",
    "                ecval_sel_vector.append(ec.average_cost(targets_sel, decisions_sel, cost_no_rej, adjusted=False))\n",
    "            else:\n",
    "                ecval_sel_vector.append(0.0)\n",
    "\n",
    "            # When decisions are equal to the last class, the system decided to reject\n",
    "            # These are the decisions for the pseudo-ROC\n",
    "            dec_pos = decisions == K\n",
    "            dec_neg = decisions != K\n",
    "            tot_pos = np.sum(targets_rej==True)\n",
    "            tot_neg = np.sum(targets_rej==False)\n",
    "            md_fpr.append(np.sum(targets_rej[dec_pos]==False)/tot_neg)\n",
    "            md_fnr.append(np.sum(targets_rej[dec_neg]==True)/tot_pos)\n",
    "\n",
    "        ce = LogLoss(logpost, targets)\n",
    "\n",
    "        # Finally, compute two calibration metrics\n",
    "        logpost_cal_axv = calibration_with_crossval(logpost, targets, seed=seed, calparams={'bias':True})\n",
    "        rcl = CalLoss(LogLoss, logpost, logpost_cal_axv, targets, relative=True)\n",
    "        ece = ECE(logpost, targets)\n",
    "        if K==2:\n",
    "            ecebin = ECEbin(logpost, targets)\n",
    "        \n",
    "        print(f\"{sep2}   {ce:5.3f}  {sep}\", end='')\n",
    "\n",
    "        if K==2:\n",
    "            print(f\"{sep2} {rcl:5.1f} {sep}  {ece:5.1f} {sep} {ecebin:5.1f}  \", end='')\n",
    "        else:\n",
    "            print(f\"{sep2} {rcl:5.1f} {sep}  {ece:5.1f} {sep}  -  \", end='')\n",
    "\n",
    "        print(f'{newline}')\n",
    "    \n",
    "        color = colors[logpostname]\n",
    "\n",
    "        # gamma vs EC\n",
    "        ax = axes[0]\n",
    "        ax.plot(gammas, ecval_vector, color+'-', label=f'{logpostname} (NCE = {ce:.3f})')\n",
    "        ax.plot(gammas, ecval_sel_vector, color+'--')\n",
    "        ax.legend()\n",
    "        ax.set_xlabel(\"Gamma\")\n",
    "        ax.set_ylabel(\"EC (solid) / EC sel (dashed)\")\n",
    "        \n",
    "        # gamma vs NEC\n",
    "        ax = axes[1]\n",
    "        ax.plot(gammas, ecvaln_vector, color+'-')\n",
    "        ax.plot(gammas, coverage_vector, color+'--')\n",
    "        ax.set_xlabel(\"Gamma\")\n",
    "        ax.set_ylabel(\"NEC (solid) / Coverage (dashed)\")\n",
    "        \n",
    "        # coverage vs risk\n",
    "        ax = axes[2]\n",
    "        ax.plot(coverage_vector, ecval_sel_vector, color+'-')\n",
    "        auc_rc = np.mean(ecval_sel_vector)\n",
    "        ax.set_xlabel(\"Coverage\")\n",
    "        ax.set_ylabel(\"EC sel\")\n",
    "\n",
    "        # ROC\n",
    "        ax = axes[3]\n",
    "        ax.plot(md_fpr, md_fnr, color+':')\n",
    "        fpr, tpr, _ = roc_curve(targets_rej, 1-confidences)\n",
    "        auc_roc = roc_auc_score(targets_rej, 1-confidences)\n",
    "        ax.plot(fpr, 1-tpr, color+'-', label=auc_roc)\n",
    "        ax.legend()\n",
    "        ax.set_xlabel(\"MD FPR\")\n",
    "        ax.set_ylabel(\"MD FNR\")\n",
    "\n",
    "    fig.suptitle(dname, fontsize=10)\n",
    "    plt.tight_layout()\n",
    "    plt.savefig(f'{outdir}/{dname}.pdf')\n",
    "        \n",
    "\n",
    "    print(\"\")\n",
    "\n",
    "\n"
   ]
  }
 ],
 "metadata": {
  "kernelspec": {
   "display_name": "Python 3 (ipykernel)",
   "language": "python",
   "name": "python3"
  },
  "language_info": {
   "codemirror_mode": {
    "name": "ipython",
    "version": 3
   },
   "file_extension": ".py",
   "mimetype": "text/x-python",
   "name": "python",
   "nbconvert_exporter": "python",
   "pygments_lexer": "ipython3",
   "version": "3.9.13"
  }
 },
 "nbformat": 4,
 "nbformat_minor": 2
}
